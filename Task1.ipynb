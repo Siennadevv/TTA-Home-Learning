{
 "metadata": {
  "language_info": {
   "codemirror_mode": {
    "name": "ipython",
    "version": 3
   },
   "file_extension": ".py",
   "mimetype": "text/x-python",
   "name": "python",
   "nbconvert_exporter": "python",
   "pygments_lexer": "ipython3",
   "version": 3
  },
  "orig_nbformat": 4
 },
 "nbformat": 4,
 "nbformat_minor": 2,
 "cells": [
  {
   "cell_type": "code",
   "execution_count": null,
   "metadata": {},
   "outputs": [],
   "source": [
    "if choice == 1:\n",
    "    print('you are going on a trip')\n",
    "    destination_type = int(input('do you want to go for food? or shopping\\nType 1 for food, and 2 for shopping\\n'))\n",
    "    if destination_type == 1:\n",
    "        print('you have chosen a cafe!')\n",
    "    elif destination_type == 2:\n",
    "        print('You have chosen a shopping mall!')\n",
    "    else:\n",
    "            print('Wrong input. Please try again!')\n",
    "elif choice == 2:\n",
    "    print('you have chosen drinks')\n",
    "    choice = int(input('Would you prefer juice or a milkshake?\\nType 1 for juice, and 2 for juice \\n'))\n",
    "    if choice == 1:\n",
    "        print('you have been given a strawberry milkshake!')\n",
    "    elif choice == 2:\n",
    "        print('You have been given orange juice!')\n",
    "    else:\n",
    "            print('Wrong input. Please try again!')\n",
    "else:\n",
    "    print('Wrong input. Please try again!')"
   ]
  }
 ]
}