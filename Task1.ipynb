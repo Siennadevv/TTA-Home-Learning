{
 "metadata": {
  "language_info": {
   "codemirror_mode": {
    "name": "ipython",
    "version": 3
   },
   "file_extension": ".py",
   "mimetype": "text/x-python",
   "name": "python",
   "nbconvert_exporter": "python",
   "pygments_lexer": "ipython3",
   "version": "3.9.6"
  },
  "orig_nbformat": 4,
  "kernelspec": {
   "name": "python3",
   "display_name": "Python 3.9.6 64-bit"
  },
  "interpreter": {
   "hash": "c933b69d75dbfffc78c313080338be04ee4d5185cff838ae910844a74d11c440"
  }
 },
 "nbformat": 4,
 "nbformat_minor": 2,
 "cells": [
  {
   "cell_type": "code",
   "execution_count": 1,
   "metadata": {},
   "outputs": [
    {
     "output_type": "stream",
     "name": "stdout",
     "text": [
      "hello world\n"
     ]
    }
   ],
   "source": [
    "print(\"hello world\")"
   ]
  },
  {
   "cell_type": "code",
   "execution_count": 6,
   "metadata": {},
   "outputs": [
    {
     "output_type": "execute_result",
     "data": {
      "text/plain": [
       "<function print>"
      ]
     },
     "metadata": {},
     "execution_count": 6
    }
   ],
   "source": [
    "import random\n",
    "myName = input(\" Hello what is your name?\")\n",
    "number = random.randint(1,10)\n",
    "print(\"well,\" + myName + \"i am thinking of a number from 1 to 10\")\n",
    "guess = int(input(\"take a guess.\"))\n",
    "if guess == number:\n",
    "    print(\"Good job.\" + myName + \"you guessed my number!\")\n",
    "else:\n",
    "    print(\"sorry you guessed wrong.\")"
   ]
  }
 ]
}