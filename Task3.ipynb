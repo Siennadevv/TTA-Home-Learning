{
 "metadata": {
  "language_info": {
   "codemirror_mode": {
    "name": "ipython",
    "version": 3
   },
   "file_extension": ".py",
   "mimetype": "text/x-python",
   "name": "python",
   "nbconvert_exporter": "python",
   "pygments_lexer": "ipython3",
   "version": "3.9.6"
  },
  "orig_nbformat": 4,
  "kernelspec": {
   "name": "python3",
   "display_name": "Python 3.9.6 64-bit"
  },
  "interpreter": {
   "hash": "c933b69d75dbfffc78c313080338be04ee4d5185cff838ae910844a74d11c440"
  }
 },
 "nbformat": 4,
 "nbformat_minor": 2,
 "cells": [
  {
   "cell_type": "code",
   "execution_count": null,
   "metadata": {},
   "outputs": [],
   "source": [
    "starter=input('Enter whats your favourite starter? ')\n",
    "maincourse= input('Enter whats your favourite main course? ')\n",
    "dessert=input('Enter whats your favourite dessert? ')\n",
    "drink=input('Enter whats your favourite drink? ')\n",
    "print('Your favorite meal is '+starter,maincourse,dessert+ ' with a glass of '+ drink)"
   ]
  },
  {
   "cell_type": "code",
   "execution_count": null,
   "metadata": {},
   "outputs": [],
   "source": []
  }
 ]
}