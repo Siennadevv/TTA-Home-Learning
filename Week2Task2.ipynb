{
 "metadata": {
  "language_info": {
   "codemirror_mode": {
    "name": "ipython",
    "version": 3
   },
   "file_extension": ".py",
   "mimetype": "text/x-python",
   "name": "python",
   "nbconvert_exporter": "python",
   "pygments_lexer": "ipython3",
   "version": "3.9.6"
  },
  "orig_nbformat": 4,
  "kernelspec": {
   "name": "python3",
   "display_name": "Python 3.9.6 64-bit"
  },
  "interpreter": {
   "hash": "c933b69d75dbfffc78c313080338be04ee4d5185cff838ae910844a74d11c440"
  }
 },
 "nbformat": 4,
 "nbformat_minor": 2,
 "cells": [
  {
   "cell_type": "code",
   "execution_count": 1,
   "metadata": {},
   "outputs": [
    {
     "output_type": "stream",
     "name": "stdout",
     "text": [
      "1800.0\n1620.0\n1458.0\n1312.2\n1180.98\n1062.882\n956.5938000000001\n2400.0\n1920.0\n1536.0\n1228.8\n983.04\n5000.0\n2500.0\n1250.0\n625.0\n"
     ]
    }
   ],
   "source": [
    "def motorbike_function(initial_cost, percent_loss):\n",
    "\n",
    "    percent_val = percent_loss / 100\n",
    "\n",
    "    while initial_cost > 1000:\n",
    "        initial_cost = initial_cost - (percent_val * initial_cost)\n",
    "        print(initial_cost)\n",
    "\n",
    "motorbike_function(2000, 10) # check 1 \n",
    "motorbike_function(3000, 20) # check 2\n",
    "motorbike_function(10000, 50) # check 3"
   ]
  },
  {
   "cell_type": "code",
   "execution_count": null,
   "metadata": {},
   "outputs": [],
   "source": []
  }
 ]
}