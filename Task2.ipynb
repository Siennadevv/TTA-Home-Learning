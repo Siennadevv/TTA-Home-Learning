{
 "metadata": {
  "language_info": {
   "codemirror_mode": {
    "name": "ipython",
    "version": 3
   },
   "file_extension": ".py",
   "mimetype": "text/x-python",
   "name": "python",
   "nbconvert_exporter": "python",
   "pygments_lexer": "ipython3",
   "version": "3.9.6"
  },
  "orig_nbformat": 4,
  "kernelspec": {
   "name": "python3",
   "display_name": "Python 3.9.6 64-bit"
  },
  "interpreter": {
   "hash": "c933b69d75dbfffc78c313080338be04ee4d5185cff838ae910844a74d11c440"
  }
 },
 "nbformat": 4,
 "nbformat_minor": 2,
 "cells": [
  {
   "cell_type": "code",
   "execution_count": 1,
   "metadata": {},
   "outputs": [
    {
     "output_type": "stream",
     "name": "stdout",
     "text": [
      " your joke for your favourite number : How does a rabbi make a coffee? Hebrews it.\n"
     ]
    }
   ],
   "source": [
    "x =int(input(\"what is your favourite number between 1 and 100? \"))\n",
    "if x <=50:\n",
    "    print(' your joke for your favourite number : How does a rabbi make a coffee? Hebrews it.')\n",
    "elif x >50 and x<75:\n",
    "    print('your joke for your favourite number : whats the most difficult tea to swallow? reality.')\n",
    "elif x>75 and x < 100:\n",
    "    print ('your joke for your favourite number : ever tried to eat a clock? its time consuming!')\n",
    "else:\n",
    "    print('what kind of apple grows on trees? all of them.')"
   ]
  },
  {
   "cell_type": "code",
   "execution_count": null,
   "metadata": {},
   "outputs": [],
   "source": []
  }
 ]
}